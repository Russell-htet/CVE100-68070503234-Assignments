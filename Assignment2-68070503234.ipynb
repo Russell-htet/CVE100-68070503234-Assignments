{
  "cells": [
    {
      "cell_type": "markdown",
      "metadata": {
        "id": "N98TAkTyuUUS"
      },
      "source": [
        "#  Numbers"
      ]
    },
    {
      "cell_type": "markdown",
      "metadata": {
        "id": "tFT29J9SuUUX"
      },
      "source": [
        "Compute the number of bytes in one Gigabyte (1kb = 1024 bytes, 1mb = 1024 kb, 1gb = 1024 mb)"
      ]
    },
    {
      "cell_type": "code",
      "execution_count": 2,
      "metadata": {
        "colab": {
          "base_uri": "https://localhost:8080/"
        },
        "id": "BANjubY7uUUY",
        "outputId": "97c9ef0c-02e1-4339-a4be-6c949dd9b892"
      },
      "outputs": [
        {
          "output_type": "stream",
          "name": "stdout",
          "text": [
            "1073741824\n"
          ]
        }
      ],
      "source": [
        "#Write your code here\n",
        "GB=1\n",
        "MB=GB*1024\n",
        "KB=MB*1024\n",
        "B=KB*1024\n",
        "print(B)\n"
      ]
    },
    {
      "cell_type": "markdown",
      "metadata": {
        "id": "7iW17h3cuUUa"
      },
      "source": [
        "You bought 500 shares of stock A at $\\$$600 on day 0 and you sold it at  $\\$$1000 on day 700.\n",
        "The daily discount rate is 0.0001%. How much profit did you make in terms of net present value.\n"
      ]
    },
    {
      "cell_type": "code",
      "execution_count": 26,
      "metadata": {
        "colab": {
          "base_uri": "https://localhost:8080/"
        },
        "id": "Xvm1oRmUuUUb",
        "outputId": "9c13394e-1f7c-49ea-ba67-d71167c51c41"
      },
      "outputs": [
        {
          "output_type": "stream",
          "name": "stdout",
          "text": [
            "199650.12264632783\n"
          ]
        }
      ],
      "source": [
        "#Write your code here\n",
        "num_shares = 500\n",
        "buy_price = 600\n",
        "sell_price = 1000\n",
        "days = 700\n",
        "daily_discount_rate = 0.0001 / 100\n",
        "\n",
        "bought = num_shares * buy_price\n",
        "sold = num_shares * sell_price\n",
        "daily_discount_rate = 1 / ((1 + daily_discount_rate) **days)\n",
        "Total = sold * daily_discount_rate\n",
        "profit = Total - bought\n",
        "print(profit)"
      ]
    },
    {
      "cell_type": "markdown",
      "metadata": {
        "id": "Qdk-7VksuUUb"
      },
      "source": [
        "For any value of x, create a variable called even_check that is True if x is even and False if x is odd."
      ]
    },
    {
      "cell_type": "code",
      "execution_count": 22,
      "metadata": {
        "run_control": {
          "marked": true
        },
        "colab": {
          "base_uri": "https://localhost:8080/"
        },
        "id": "scGLRKyPuUUc",
        "outputId": "4ad344f7-755b-454f-d047-80a3483702eb"
      },
      "outputs": [
        {
          "output_type": "stream",
          "name": "stdout",
          "text": [
            "Enter a number33\n",
            "False\n"
          ]
        }
      ],
      "source": [
        "#Write your code here\n",
        "\n",
        "x=int(input(\"Enter a number\"))\n",
        "even_check = x % 2\n",
        "\n",
        "if even_check==0:\n",
        "  print(True)\n",
        "else:\n",
        "    print(False)"
      ]
    },
    {
      "cell_type": "markdown",
      "metadata": {
        "id": "Bqsa3dlsuUUc"
      },
      "source": [
        "You have num_shirts t-shirts, num_shorts pairs of shorts and num_shoes pairs of shoes.  Create a variable called num_outfits that stores the total number of different outfits you can make."
      ]
    },
    {
      "cell_type": "code",
      "execution_count": 8,
      "metadata": {
        "colab": {
          "base_uri": "https://localhost:8080/"
        },
        "id": "NNWX76VDuUUc",
        "outputId": "2f081661-d8d5-4596-b6de-0c9210aa40e7"
      },
      "outputs": [
        {
          "output_type": "stream",
          "name": "stdout",
          "text": [
            "Enter Total number of shirts: 5\n",
            "Enter Total number of shorts:3\n",
            "Enter Total number of shoes:4\n",
            "Total outfits= 60\n"
          ]
        }
      ],
      "source": [
        "#Write your code here\n",
        "\n",
        "num_shirts=int(input(\"Enter Total number of shirts: \"))\n",
        "num_shorts=int(input(\"Enter Total number of shorts:\"))\n",
        "num_shoes=int(input(\"Enter Total number of shoes:\"))\n",
        "\n",
        "Total_outfits=num_shirts*num_shorts*num_shoes\n",
        "print(\"Total outfits=\",Total_outfits)"
      ]
    },
    {
      "cell_type": "markdown",
      "metadata": {
        "id": "rGx_vFrduUUd"
      },
      "source": [
        "# String Practice\n",
        "\n",
        "Create variable called \"name\" that stores your full name. Find whether your name has an even or odd number of letters."
      ]
    },
    {
      "cell_type": "code",
      "execution_count": 12,
      "metadata": {
        "colab": {
          "base_uri": "https://localhost:8080/"
        },
        "id": "rnmJ-1efuUUd",
        "outputId": "27f3bf76-544c-4b04-af7e-1a31667fbee1"
      },
      "outputs": [
        {
          "output_type": "stream",
          "name": "stdout",
          "text": [
            "Enter your name:Rus\n",
            "Your name has odd numbers of letters.\n"
          ]
        }
      ],
      "source": [
        "#Write your code here\n",
        "\n",
        "name=input(\"Enter your name:\")\n",
        "length=int(len(name))\n",
        "\n",
        "if length % 2 == 0:\n",
        "  print(\"Your name has even numbers of letters.\")\n",
        "else:\n",
        "  print(\"Your name has odd numbers of letters.\")"
      ]
    },
    {
      "cell_type": "markdown",
      "metadata": {
        "id": "TpFOncpxuUUe"
      },
      "source": [
        "Correct the following variable so it is equal to \"spammy\""
      ]
    },
    {
      "cell_type": "code",
      "execution_count": 13,
      "metadata": {
        "colab": {
          "base_uri": "https://localhost:8080/"
        },
        "id": "Sr5i-SuTuUUe",
        "outputId": "f90ced4d-bd8e-4e84-9ab1-4a549526d529"
      },
      "outputs": [
        {
          "output_type": "stream",
          "name": "stdout",
          "text": [
            "spammy\n"
          ]
        }
      ],
      "source": [
        "#Write your code here\n",
        "s = \"spaxxy\"\n",
        "\n",
        "s = s.replace(\"x\",\"m\")\n",
        "print(s)"
      ]
    },
    {
      "cell_type": "markdown",
      "metadata": {
        "id": "vob93spCuUUe"
      },
      "source": [
        "Figure out a way to slice and combine the strings s1, s2, and s3 so that the variable consec_ints = \"123456789\"."
      ]
    },
    {
      "cell_type": "code",
      "execution_count": 15,
      "metadata": {
        "colab": {
          "base_uri": "https://localhost:8080/"
        },
        "id": "dozsW42RuUUf",
        "outputId": "19bedf60-e295-4bc7-a9f0-fbe7280bf3f7"
      },
      "outputs": [
        {
          "output_type": "stream",
          "name": "stdout",
          "text": [
            "123456789\n"
          ]
        }
      ],
      "source": [
        "s1 = \"12345\"\n",
        "s2 = \"34567\"\n",
        "s3 = \"789\"\n",
        "\n",
        "#Write your code here\n",
        "\n",
        "print(s1[:2] + s2[:4] + s3)"
      ]
    },
    {
      "cell_type": "markdown",
      "metadata": {
        "id": "DqJg4j79uUUf"
      },
      "source": [
        "#  List Practice\n",
        "\n"
      ]
    },
    {
      "cell_type": "markdown",
      "metadata": {
        "id": "50xx7GeAuUUg"
      },
      "source": [
        "Add the first and last elements of the list L. Store the result in a variable called sum_first_last. Your code should work if I change L."
      ]
    },
    {
      "cell_type": "code",
      "execution_count": 16,
      "metadata": {
        "colab": {
          "base_uri": "https://localhost:8080/"
        },
        "id": "U9Ep-mz5uUUg",
        "outputId": "f1f36989-df71-44d8-cf77-6d7c1ec245b0"
      },
      "outputs": [
        {
          "output_type": "stream",
          "name": "stdout",
          "text": [
            "72\n"
          ]
        }
      ],
      "source": [
        "L = [5,1,43,2,4,56,7,90, 67]\n",
        "\n",
        "#Write your code here\n",
        "sum_first_last = L[0]+ L[-1]\n",
        "print(sum_first_last)"
      ]
    },
    {
      "cell_type": "markdown",
      "metadata": {
        "id": "8ILAs0hUuUUg"
      },
      "source": [
        "Slice and combine the elements of the list L in a way to print out \"spam\"."
      ]
    },
    {
      "cell_type": "code",
      "execution_count": 17,
      "metadata": {
        "colab": {
          "base_uri": "https://localhost:8080/"
        },
        "id": "GzkKUCy4uUUh",
        "outputId": "4e397070-f2aa-46d1-bdae-f7e1f28b04c1"
      },
      "outputs": [
        {
          "output_type": "stream",
          "name": "stdout",
          "text": [
            "s p a m\n"
          ]
        }
      ],
      "source": [
        "L = [1,\"s\", 2, 3, \"p\", \"a\", 34,1,\"m\"]\n",
        "\n",
        "\n",
        "#Write your code here\n",
        "print(L[1],L[4],L[5],L[8])\n"
      ]
    },
    {
      "cell_type": "markdown",
      "metadata": {
        "id": "jFnWYRdNuUUh"
      },
      "source": [
        "Create a variable called num_L which store the number represented by the list of strings in L.  For the example num_L should be 145. You may assume 3 digit numbers."
      ]
    },
    {
      "cell_type": "code",
      "execution_count": 19,
      "metadata": {
        "colab": {
          "base_uri": "https://localhost:8080/"
        },
        "id": "s4-lEBT4uUUh",
        "outputId": "21f045bc-bebf-410e-a729-0f220978c7ed"
      },
      "outputs": [
        {
          "output_type": "stream",
          "name": "stdout",
          "text": [
            "145\n"
          ]
        }
      ],
      "source": [
        "L = [\"1\",\"4\",\"5\" ]\n",
        "\n",
        "#Write you code here\n",
        "num_L = L[0] + L[1] + L[2]\n",
        "print(num_L)"
      ]
    },
    {
      "cell_type": "markdown",
      "metadata": {
        "id": "4S0-G9GDuUUi"
      },
      "source": [
        "Create a list L of numbers of odd length.  Complete the following tasks:\n",
        "\n",
        " - Find the median element\n",
        " - Slice out all element indexed lower than the median element"
      ]
    },
    {
      "cell_type": "code",
      "execution_count": 21,
      "metadata": {
        "colab": {
          "base_uri": "https://localhost:8080/"
        },
        "id": "uN0rGUR2uUUi",
        "outputId": "9a505143-21c4-4d6f-8c3e-7acc44722e45"
      },
      "outputs": [
        {
          "output_type": "stream",
          "name": "stdout",
          "text": [
            "5\n",
            "[5, 6, 6, 9]\n"
          ]
        }
      ],
      "source": [
        "L= [4,5,3,2,6,6,9]\n",
        "\n",
        "#Write your code here\n",
        "L.sort()\n",
        "median=int(len(L)/2)\n",
        "print(L[median])\n",
        "print(L[median:])"
      ]
    }
  ],
  "metadata": {
    "kernelspec": {
      "display_name": "Python 3",
      "language": "python",
      "name": "python3"
    },
    "language_info": {
      "codemirror_mode": {
        "name": "ipython",
        "version": 3
      },
      "file_extension": ".py",
      "mimetype": "text/x-python",
      "name": "python",
      "nbconvert_exporter": "python",
      "pygments_lexer": "ipython3",
      "version": "3.6.0"
    },
    "toc": {
      "colors": {
        "hover_highlight": "#DAA520",
        "navigate_num": "#000000",
        "navigate_text": "#333333",
        "running_highlight": "#FF0000",
        "selected_highlight": "#FFD700",
        "sidebar_border": "#EEEEEE",
        "wrapper_background": "#FFFFFF"
      },
      "moveMenuLeft": true,
      "nav_menu": {
        "height": "12px",
        "width": "252px"
      },
      "navigate_menu": true,
      "number_sections": true,
      "sideBar": true,
      "skip_h1_title": false,
      "threshold": 4,
      "toc_cell": false,
      "toc_position": {},
      "toc_section_display": "block",
      "toc_window_display": false,
      "widenNotebook": false
    },
    "colab": {
      "provenance": []
    }
  },
  "nbformat": 4,
  "nbformat_minor": 0
}